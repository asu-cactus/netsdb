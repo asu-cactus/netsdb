{
 "cells": [
  {
   "cell_type": "code",
   "execution_count": 1,
   "id": "f3af0015",
   "metadata": {},
   "outputs": [],
   "source": [
    "import os\n",
    "import matplotlib\n"
   ]
  },
  {
   "cell_type": "code",
   "execution_count": 3,
   "id": "da3cdd47",
   "metadata": {},
   "outputs": [
    {
     "ename": "OSError",
     "evalue": "[WinError 123] The filename, directory name, or volume label syntax is incorrect: 'D:\\t\\netsdb\\\\model-inference\\\\decisionTree\\\\experiments\\\\gpu_profiles'",
     "output_type": "error",
     "traceback": [
      "\u001b[1;31m---------------------------------------------------------------------------\u001b[0m",
      "\u001b[1;31mOSError\u001b[0m                                   Traceback (most recent call last)",
      "\u001b[1;32m~\\AppData\\Local\\Temp/ipykernel_19856/1401043475.py\u001b[0m in \u001b[0;36m<module>\u001b[1;34m\u001b[0m\n\u001b[0;32m      1\u001b[0m \u001b[0mpath\u001b[0m \u001b[1;33m=\u001b[0m \u001b[1;34m\"D:\\11\\netsdb\\model-inference\\decisionTree\\experiments\\gpu_profiles\"\u001b[0m\u001b[1;33m\u001b[0m\u001b[1;33m\u001b[0m\u001b[0m\n\u001b[1;32m----> 2\u001b[1;33m \u001b[0mfiles\u001b[0m \u001b[1;33m=\u001b[0m \u001b[0mos\u001b[0m\u001b[1;33m.\u001b[0m\u001b[0mlistdir\u001b[0m\u001b[1;33m(\u001b[0m\u001b[0mpath\u001b[0m\u001b[1;33m)\u001b[0m\u001b[1;33m\u001b[0m\u001b[1;33m\u001b[0m\u001b[0m\n\u001b[0m\u001b[0;32m      3\u001b[0m \u001b[0mfiles\u001b[0m\u001b[1;33m.\u001b[0m\u001b[0msort\u001b[0m\u001b[1;33m(\u001b[0m\u001b[1;33m)\u001b[0m\u001b[1;33m\u001b[0m\u001b[1;33m\u001b[0m\u001b[0m\n\u001b[0;32m      4\u001b[0m \u001b[1;32mfor\u001b[0m \u001b[0mfile\u001b[0m \u001b[1;32min\u001b[0m \u001b[0mfiles\u001b[0m\u001b[1;33m:\u001b[0m\u001b[1;33m\u001b[0m\u001b[1;33m\u001b[0m\u001b[0m\n\u001b[0;32m      5\u001b[0m     \u001b[1;32mif\u001b[0m \u001b[0mfile\u001b[0m\u001b[1;33m.\u001b[0m\u001b[0mstartswith\u001b[0m\u001b[1;33m(\u001b[0m\u001b[1;34m\"python\"\u001b[0m\u001b[1;33m)\u001b[0m \u001b[1;32mand\u001b[0m \u001b[0mfile\u001b[0m\u001b[1;33m.\u001b[0m\u001b[0mendswith\u001b[0m\u001b[1;33m(\u001b[0m\u001b[1;34m\"GPU_LOG.txt\"\u001b[0m\u001b[1;33m)\u001b[0m\u001b[1;33m:\u001b[0m\u001b[1;33m\u001b[0m\u001b[1;33m\u001b[0m\u001b[0m\n",
      "\u001b[1;31mOSError\u001b[0m: [WinError 123] The filename, directory name, or volume label syntax is incorrect: 'D:\\t\\netsdb\\\\model-inference\\\\decisionTree\\\\experiments\\\\gpu_profiles'"
     ]
    },
    {
     "ename": "",
     "evalue": "",
     "output_type": "error",
     "traceback": [
      "\u001b[1;31mThe Kernel crashed while executing code in the the current cell or a previous cell. Please review the code in the cell(s) to identify a possible cause of the failure. Click <a href='https://aka.ms/vscodeJupyterKernelCrash'>here</a> for more info. View Jupyter <a href='command:jupyter.viewOutput'>log</a> for further details."
     ]
    }
   ],
   "source": [
    "files = os.listdir('gpu_profiles')\n",
    "files.sort()\n",
    "for file in files:\n",
    "    if file.startswith(\"python\") and file.endswith(\"GPU_LOG.txt\"):\n",
    "        args = file.split(\"-\")\n",
    "        for i in range(len(args)):\n",
    "            print(i,args[i])\n",
    "        batch_size = args[6].split('_')[2]\n",
    "        dataset = args[1].split('_')[1]\n",
    "        algo = args[2].split('_')[1]\n",
    "        framework = args[3].split('_')[1]\n",
    "        trees = args[4].split('_')[1]\n",
    "        print(batch_size,dataset,framework,trees)\n",
    "        break\n",
    "        data = open('gpu_profiles/'+file).read().split('\\n')\n",
    "        gpu_usage = []\n",
    "        mem_usage = []\n",
    "        pyt_usage = []\n",
    "        max_usage = []\n",
    "        max_gpu_usage = -1\n",
    "        max_mem_usage = -1\n",
    "        max_pyt_usage = -1\n",
    "        \n",
    "        for line in data:\n",
    "            if line.startswith(\"[0]\"):\n",
    "                # print(line.split(),len(line.split()))\n",
    "                line_split = line.split()\n",
    "                gpu = int(line_split[5])\n",
    "                mem = int(line_split[8])\n",
    "                max_usg = int(line_split[10])\n",
    "                pyt = 0\n",
    "                if len(line_split) == 14:\n",
    "                    pyt = line_split[-1].split('(')[-1]\n",
    "                    pyt = pyt.split(\"M\")[0]\n",
    "                    pyt = int(pyt)\n",
    "                max_gpu_usage = max(max_gpu_usage,gpu)\n",
    "                max_mem_usage = max(max_mem_usage,mem)\n",
    "                max_pyt_usage = max(max_pyt_usage,pyt)\n",
    "                gpu_usage.append(gpu)\n",
    "                mem_usage.append(mem)\n",
    "                pyt_usage.append(pyt)\n",
    "                max_usage.append(max_usg)\n",
    "        \n",
    "#         print(mem_usage,'\\n',gpu_usage,'\\n',pyt_usage,'\\n',max_usage)\n",
    "#         print(max_gpu_usage,'\\n',max_mem_usage,'\\n',max_pyt_usage)\n",
    "        # break\n",
    "        \n",
    "        file = open(os.path.join('gpu_profiles','profiles',dataset+\".csv\"),\"a+\")\n",
    "        file.write(\"algo,\"+algo+\"\\n\")\n",
    "        file.write(\"dataset,\"+dataset+\"\\n\")\n",
    "        file.write(\"trees,\"+trees+\"\\n\")\n",
    "        file.write(\"batch_size,\"+batch_size+\"\\n\")\n",
    "        file.write(\"framework,\"+framework+\"\\n\")\n",
    "        file.write(\"max_gpu_usage,\"+str(max_gpu_usage)+\"\\n\")\n",
    "        file.write(\"max_mem_usage,\"+str(max_mem_usage)+\"\\n\")\n",
    "        file.write(\"max_pyt_usage,\"+str(max_pyt_usage)+\"\\n\\n\")\n",
    "        file.write(\"gpu_usage,\"+\",\".join(map(str,gpu_usage))+\"\\n\")\n",
    "        file.write(\"mem_usage,\"+\",\".join(map(str,mem_usage))+\"\\n\")\n",
    "        file.write(\"pyt_usage,\"+\",\".join(map(str,pyt_usage))+\"\\n\")\n",
    "        file.write(\"max_usage,\"+\",\".join(map(str,max_usage))+\"\\n\\n\\n\\n\")\n",
    "        file.close()\n",
    "        # break\n",
    "        \n",
    "        "
   ]
  },
  {
   "cell_type": "code",
   "execution_count": null,
   "id": "57dd11c6",
   "metadata": {},
   "outputs": [],
   "source": []
  },
  {
   "cell_type": "code",
   "execution_count": null,
   "id": "511a2bda",
   "metadata": {},
   "outputs": [],
   "source": []
  },
  {
   "cell_type": "code",
   "execution_count": null,
   "id": "73cffcfd",
   "metadata": {},
   "outputs": [],
   "source": []
  }
 ],
 "metadata": {
  "kernelspec": {
   "display_name": "Python 3 (ipykernel)",
   "language": "python",
   "name": "python3"
  },
  "language_info": {
   "codemirror_mode": {
    "name": "ipython",
    "version": 3
   },
   "file_extension": ".py",
   "mimetype": "text/x-python",
   "name": "python",
   "nbconvert_exporter": "python",
   "pygments_lexer": "ipython3",
   "version": "3.9.7"
  },
  "vscode": {
   "interpreter": {
    "hash": "369f2c481f4da34e4445cda3fffd2e751bd1c4d706f27375911949ba6bb62e1c"
   }
  }
 },
 "nbformat": 4,
 "nbformat_minor": 5
}
