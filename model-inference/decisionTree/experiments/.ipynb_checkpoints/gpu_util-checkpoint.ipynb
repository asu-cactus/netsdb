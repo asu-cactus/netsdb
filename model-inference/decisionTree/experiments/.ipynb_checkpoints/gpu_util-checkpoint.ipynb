{
 "cells": [
  {
   "cell_type": "code",
   "execution_count": 2,
   "id": "f3af0015",
   "metadata": {},
   "outputs": [],
   "source": [
    "import os\n",
    "import matplotlib\n"
   ]
  },
  {
   "cell_type": "code",
   "execution_count": 3,
   "id": "da3cdd47",
   "metadata": {},
   "outputs": [],
   "source": [
    "files = os.listdir('gpu_profiles')\n",
    "files.sort()\n",
    "for file in files:\n",
    "    if file.startswith(\"python\") and file.endswith(\"GPU_LOG.txt\"):\n",
    "        args = file.split(\"-\")\n",
    "#         for i in range(len(args)):\n",
    "#             print(i,args[i])\n",
    "        batch_size = args[6].split('_')[2]\n",
    "        dataset = args[1].split('_')[1]\n",
    "        algo = args[2].split('_')[1]\n",
    "        framework = args[3].split('_')[1]\n",
    "        print(batch_size,dataset,framework)\n",
    "        data = open(file).read().split('\\n')\n",
    "        gpu_usage = []\n",
    "        mem_usage = []\n",
    "        ubu_usage = []\n",
    "        max_usage = []\n",
    "        max_gpu_usage = -1\n",
    "        max_mem_usage = -1\n",
    "        max_ubu_usage = -1\n",
    "        \n",
    "        for line in data:\n",
    "            if line.startswith(\"[0]\"):\n",
    "#                 print(line.split())\n",
    "                line_split = line.split()\n",
    "                gpu = int(line_split[5])\n",
    "                mem = int(line_split[8])\n",
    "                max_usg = int(line_split[10])\n",
    "                ubu = 0\n",
    "                if line_split[-1].startswith('ubuntu'):\n",
    "                    ubu = line_split[-1].split('(')[-1]\n",
    "                    ubu = ubu.split(\"M\")[0]\n",
    "                    ubu = int(ubu)\n",
    "                max_gpu_usage = max(max_gpu_usage,gpu)\n",
    "                max_mem_usage = max(max_mem_usage,mem)\n",
    "                max_ubu_usage = max(max_ubu_usage,ubu)\n",
    "                gpu_usage.append(gpu)\n",
    "                mem_usage.append(mem)\n",
    "                ubu_usage.append(ubu)\n",
    "                max_usage.append(max_usg)\n",
    "        \n",
    "        print(mem_usage,'\\n',gpu_usage,'\\n',ubu_usage,'\\n',max_usage)\n",
    "        break\n",
    "        \n",
    "        file = open(dataset+\".csv\",\"a+\")\n",
    "        file.write(\"algo,\"+algo+\"\\n\")\n",
    "        file.write(\"dataset,\"+dataset+\"\\n\")\n",
    "        file.write(\"batch_size,\"+batch_size+\"\\n\")\n",
    "        file.write(\"framework,\"+framework+\"\\n\")\n",
    "        file.write(\"max_gpu_usage,\"+str(max_gpu_usage)+\"\\n\")\n",
    "        file.write(\"max_mem_usage,\"+str(max_mem_usage)+\"\\n\")\n",
    "        file.write(\"max_ubu_usage,\"+str(max_ubu_usage)+\"\\n\\n\")\n",
    "        file.write(\"gpu_usage,\"+\",\".join(map(str,gpu_usage))+\"\\n\")\n",
    "        file.write(\"mem_usage,\"+\",\".join(map(str,mem_usage))+\"\\n\")\n",
    "        file.write(\"ubu_usage,\"+\",\".join(map(str,ubu_usage))+\"\\n\")\n",
    "        file.write(\"max_usage,\"+\",\".join(map(str,max_usage))+\"\\n\\n\\n\\n\")\n",
    "        file.close()\n",
    "        \n",
    "        "
   ]
  },
  {
   "cell_type": "code",
   "execution_count": null,
   "id": "57dd11c6",
   "metadata": {},
   "outputs": [],
   "source": []
  },
  {
   "cell_type": "code",
   "execution_count": null,
   "id": "511a2bda",
   "metadata": {},
   "outputs": [],
   "source": []
  },
  {
   "cell_type": "code",
   "execution_count": null,
   "id": "73cffcfd",
   "metadata": {},
   "outputs": [],
   "source": []
  }
 ],
 "metadata": {
  "kernelspec": {
   "display_name": "Python 3 (ipykernel)",
   "language": "python",
   "name": "python3"
  },
  "language_info": {
   "codemirror_mode": {
    "name": "ipython",
    "version": 3
   },
   "file_extension": ".py",
   "mimetype": "text/x-python",
   "name": "python",
   "nbconvert_exporter": "python",
   "pygments_lexer": "ipython3",
   "version": "3.9.12"
  }
 },
 "nbformat": 4,
 "nbformat_minor": 5
}
